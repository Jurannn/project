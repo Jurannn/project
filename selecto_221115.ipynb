{
  "cells": [
    {
      "cell_type": "code",
      "source": [
        "!sudo apt-get install -y fonts-nanum\n",
        "!sudo fc-cache -fv\n",
        "!rm ~/.cache/matplotlib -rf"
      ],
      "metadata": {
        "colab": {
          "base_uri": "https://localhost:8080/"
        },
        "id": "drVYO2uIhro6",
        "outputId": "a32ae07f-7939-4efc-c201-1669b16dcf4c"
      },
      "execution_count": 1,
      "outputs": [
        {
          "output_type": "stream",
          "name": "stdout",
          "text": [
            "Reading package lists... Done\n",
            "Building dependency tree       \n",
            "Reading state information... Done\n",
            "fonts-nanum is already the newest version (20170925-1).\n",
            "The following package was automatically installed and is no longer required:\n",
            "  libnvidia-common-460\n",
            "Use 'sudo apt autoremove' to remove it.\n",
            "0 upgraded, 0 newly installed, 0 to remove and 5 not upgraded.\n",
            "/usr/share/fonts: caching, new cache contents: 0 fonts, 1 dirs\n",
            "/usr/share/fonts/truetype: caching, new cache contents: 0 fonts, 3 dirs\n",
            "/usr/share/fonts/truetype/humor-sans: caching, new cache contents: 1 fonts, 0 dirs\n",
            "/usr/share/fonts/truetype/liberation: caching, new cache contents: 16 fonts, 0 dirs\n",
            "/usr/share/fonts/truetype/nanum: caching, new cache contents: 10 fonts, 0 dirs\n",
            "/usr/local/share/fonts: caching, new cache contents: 0 fonts, 0 dirs\n",
            "/root/.local/share/fonts: skipping, no such directory\n",
            "/root/.fonts: skipping, no such directory\n",
            "/var/cache/fontconfig: cleaning cache directory\n",
            "/root/.cache/fontconfig: not cleaning non-existent cache directory\n",
            "/root/.fontconfig: not cleaning non-existent cache directory\n",
            "fc-cache: succeeded\n"
          ]
        }
      ]
    },
    {
      "cell_type": "code",
      "source": [
        "from google.colab import drive\n",
        "drive.mount('/content/drive')"
      ],
      "metadata": {
        "id": "srcyGl8IGpkj",
        "colab": {
          "base_uri": "https://localhost:8080/"
        },
        "outputId": "41da13fa-b568-45d0-f60f-bb033ffd9224"
      },
      "execution_count": 2,
      "outputs": [
        {
          "output_type": "stream",
          "name": "stdout",
          "text": [
            "Drive already mounted at /content/drive; to attempt to forcibly remount, call drive.mount(\"/content/drive\", force_remount=True).\n"
          ]
        }
      ]
    },
    {
      "cell_type": "code",
      "execution_count": 3,
      "metadata": {
        "id": "xKH6I8v4Gi5x"
      },
      "outputs": [],
      "source": [
        "import numpy as np\n",
        "import pandas as pd\n",
        "\n",
        "#한글 폰트 사용\n",
        "from matplotlib import font_manager,rc\n",
        "import matplotlib\n",
        "import matplotlib.pyplot as plt\n",
        "\n",
        "#폰트 경로\n",
        "#font_path = \"C:/Windows/Fonts/H2GTRM.TTF\"\n",
        "\n",
        "#폰트 이름 얻어오기\n",
        "#font_name = font_manager.FontProperties(fname=font_path).get_name()\n",
        "\n",
        "#font 설정\n",
        "#matplotlib.rc('font',family=font_name)"
      ]
    },
    {
      "cell_type": "code",
      "source": [
        "import os\n",
        "os.getcwd()"
      ],
      "metadata": {
        "colab": {
          "base_uri": "https://localhost:8080/",
          "height": 35
        },
        "id": "6zgqS-b9LOrg",
        "outputId": "eb8a12f3-5aa8-419e-ca63-b6566fa6c7e3"
      },
      "execution_count": 4,
      "outputs": [
        {
          "output_type": "execute_result",
          "data": {
            "text/plain": [
              "'/content'"
            ],
            "application/vnd.google.colaboratory.intrinsic+json": {
              "type": "string"
            }
          },
          "metadata": {},
          "execution_count": 4
        }
      ]
    },
    {
      "cell_type": "code",
      "source": [
        "os.chdir('/content/drive/MyDrive/betabrain/selecto')\n",
        "mis1 = pd.read_excel(\"./MIS/MIS01.xlsx\")\n",
        "file_list = [\"MIS0\"+str(i)+\".xlsx\" for i in range(1,10)]\n",
        "print(file_list)"
      ],
      "metadata": {
        "colab": {
          "base_uri": "https://localhost:8080/"
        },
        "id": "uNBgHI5qLS0w",
        "outputId": "021c7ff1-ee6a-45fe-d7bc-ca8684200cde"
      },
      "execution_count": 5,
      "outputs": [
        {
          "output_type": "stream",
          "name": "stdout",
          "text": [
            "['MIS01.xlsx', 'MIS02.xlsx', 'MIS03.xlsx', 'MIS04.xlsx', 'MIS05.xlsx', 'MIS06.xlsx', 'MIS07.xlsx', 'MIS08.xlsx', 'MIS09.xlsx']\n"
          ]
        }
      ]
    },
    {
      "cell_type": "code",
      "source": [
        "file_list = [\"MIS0\"+str(i)+\".xlsx\" for i in range(1,10)]\n",
        "#mis1 = pd.read_excel(\"./MIS/MIS0\"+str(1)+\".xlsx\")\n",
        "mis = []\n",
        "for i in range(len(file_list)):\n",
        "  mis.append(pd.read_excel(\"./MIS/\"+ file_list[i]))"
      ],
      "metadata": {
        "id": "NKu_oggQLnfQ"
      },
      "execution_count": 6,
      "outputs": []
    },
    {
      "cell_type": "code",
      "source": [
        "for i in range(len(mis)):\n",
        "  print(mis[i].shape)\n",
        "  mis[i][\"month\"] = i + 1"
      ],
      "metadata": {
        "colab": {
          "base_uri": "https://localhost:8080/"
        },
        "id": "EO66tabfQzCH",
        "outputId": "122678f0-d076-4e14-aeec-48e5ba18022a"
      },
      "execution_count": 7,
      "outputs": [
        {
          "output_type": "stream",
          "name": "stdout",
          "text": [
            "(241, 66)\n",
            "(240, 63)\n",
            "(240, 67)\n",
            "(240, 66)\n",
            "(239, 67)\n",
            "(238, 66)\n",
            "(238, 59)\n",
            "(239, 59)\n",
            "(232, 58)\n"
          ]
        }
      ]
    },
    {
      "cell_type": "code",
      "source": [
        "df_mis = pd.concat(mis)\n"
      ],
      "metadata": {
        "id": "nfOLbIi9UMgu"
      },
      "execution_count": 8,
      "outputs": []
    },
    {
      "cell_type": "code",
      "source": [
        "mis[0].columns"
      ],
      "metadata": {
        "colab": {
          "base_uri": "https://localhost:8080/"
        },
        "id": "9qw3j6o6U2Gn",
        "outputId": "8ecaac83-5987-429d-cb0a-43ba39fcccbc"
      },
      "execution_count": 9,
      "outputs": [
        {
          "output_type": "execute_result",
          "data": {
            "text/plain": [
              "Index([             'no.',          '매장명(변경)',               '구분',\n",
              "                     '코드',               'SV',              '지역1',\n",
              "                    '지역2',               '상권',            'IS/RS',\n",
              "                     '형태',             '오픈일자',            '기존/신규',\n",
              "                   '휴무주기',                  1,                  2,\n",
              "                        3,                  4,                  5,\n",
              "                        6,                  7,                  8,\n",
              "                        9,                 10,                 11,\n",
              "                       12,                 13,                 14,\n",
              "                       15,                 16,                 17,\n",
              "                       18,                 19,                 20,\n",
              "                       21,                 22,                 23,\n",
              "                       24,                 25,                 26,\n",
              "                       27,                 28,                 29,\n",
              "                       30,                 31,            '배달의민족',\n",
              "                    '요기요',             '키오스크',             '배달합계',\n",
              "                  '매출 누계',           '평일영업일수',         '남은평일영업일수',\n",
              "                   '평일평균',           '주말영업일수',         '남은주말영업일수',\n",
              "                   '주말평균',             '영업일수',               '평균',\n",
              "       '21년 \\n동월 실적\\n(월)', '21년 \\n동월 실적\\n(일)', '전년대비\\n매출신장률\\n(%)',\n",
              "                  '누계 목표',            '누계 매출',              '달성률',\n",
              "                  '목표 실적',            '예상 실적',            '달성률.1',\n",
              "                  'month'],\n",
              "      dtype='object')"
            ]
          },
          "metadata": {},
          "execution_count": 9
        }
      ]
    },
    {
      "cell_type": "code",
      "execution_count": null,
      "metadata": {
        "id": "Q3r3jncEGi50"
      },
      "outputs": [],
      "source": [
        "fis = pd.read_excel(r\"C:\\Users\\USER\\Desktop\\betabrain\\MIS\\FIS.xlsx\")"
      ]
    },
    {
      "cell_type": "code",
      "source": [
        "#x = df_mis.groupby(['지역1','month']).size().to_frame()"
      ],
      "metadata": {
        "id": "5jsetuvcZIg9"
      },
      "execution_count": 10,
      "outputs": []
    },
    {
      "cell_type": "code",
      "source": [
        "df_reg = df_mis.groupby(['지역1','month']).size()"
      ],
      "metadata": {
        "id": "2MX68OobUq2B"
      },
      "execution_count": 11,
      "outputs": []
    },
    {
      "cell_type": "code",
      "source": [
        "df_reg = df_reg.reset_index()\n",
        "df_reg = df_reg.rename(columns={0: \"cnt\"})"
      ],
      "metadata": {
        "id": "jBI0pnWtYiAR"
      },
      "execution_count": 12,
      "outputs": []
    },
    {
      "cell_type": "code",
      "source": [
        "df_reg"
      ],
      "metadata": {
        "id": "aNVejgtEa2Ja"
      },
      "execution_count": null,
      "outputs": []
    },
    {
      "cell_type": "code",
      "source": [
        "\n",
        "df_reg_wide = pd.pivot(df_reg, index=['지역1'], columns = 'month',values = 'cnt') "
      ],
      "metadata": {
        "id": "aUA2wFkReLvN"
      },
      "execution_count": 14,
      "outputs": []
    },
    {
      "cell_type": "code",
      "source": [
        "df_reg_wide.reset_index(drop=False).columns"
      ],
      "metadata": {
        "colab": {
          "base_uri": "https://localhost:8080/"
        },
        "id": "xpJKs-TBea5f",
        "outputId": "e959825e-ddbc-4a93-a803-a9b9aa7b2a74"
      },
      "execution_count": 15,
      "outputs": [
        {
          "output_type": "execute_result",
          "data": {
            "text/plain": [
              "Index(['지역1', 1, 2, 3, 4, 5, 6, 7, 8, 9], dtype='object', name='month')"
            ]
          },
          "metadata": {},
          "execution_count": 15
        }
      ]
    },
    {
      "cell_type": "code",
      "source": [
        "plt.rc('font', family='NanumBarunGothic') \n",
        "fig = plt.figure(figsize=(8,4)) ## 캔버스 생성\n",
        "fig.set_facecolor('white') ## 캔버스 색상 설정\n",
        "groups = df_reg['지역1'].unique()\n",
        "linewidths = [1, 2, 3, 4,1,2,3,4,5]\n",
        "for group_name, size in zip(groups, linewidths):\n",
        "    # subsetting\n",
        "    #print(group_name)\n",
        "    df_reg_sub = df_reg[df_reg['지역1'] == group_name]\n",
        "    # plotting\n",
        "    plt.plot(df_reg_sub.month, df_reg_sub.cnt, linewidth=size, \n",
        "             linestyle=\"--\", label=group_name, marker='o', markersize=7, alpha=0.8)\n",
        "\n",
        "plt.xlabel('month', fontsize=15)\n",
        "plt.ylabel('count', fontsize=15) \n",
        "#plt.title('지역 별 매장 수 추이',fontsize=20) ## 타이틀 설정\n",
        "lg = plt.legend(bbox_to_anchor=(1.05, 1.0), loc='upper left')\n",
        "plt.tight_layout()\n",
        "plt.show()\n",
        "plt.savefig('example.png', \n",
        "            dpi=300, \n",
        "            format='png', \n",
        "            bbox_extra_artists=(lg,), \n",
        "            bbox_inches='tight')"
      ],
      "metadata": {
        "colab": {
          "base_uri": "https://localhost:8080/",
          "height": 315
        },
        "id": "dmKhnAu-euBz",
        "outputId": "b49737f8-8db1-4c14-a6a8-84f443b6c51c"
      },
      "execution_count": 28,
      "outputs": [
        {
          "output_type": "display_data",
          "data": {
            "text/plain": [
              "<Figure size 576x288 with 1 Axes>"
            ],
            "image/png": "[encoded data removed]"
          },
          "metadata": {}
        },
        {
          "output_type": "display_data",
          "data": {
            "text/plain": [
              "<Figure size 432x288 with 0 Axes>"
            ]
          },
          "metadata": {}
        }
      ]
    },
    {
      "cell_type": "markdown",
      "metadata": {
        "id": "axA8eWlxGi51"
      },
      "source": [
        "#################지역 별 매장 수####################"
      ]
    },
    {
      "cell_type": "code",
      "execution_count": null,
      "metadata": {
        "id": "8sq8xE6rGi53",
        "outputId": "38718101-4f83-4e9f-9db4-f84438bfb7d1"
      },
      "outputs": [
        {
          "data": {
            "text/html": [
              "<div>\n",
              "<style scoped>\n",
              "    .dataframe tbody tr th:only-of-type {\n",
              "        vertical-align: middle;\n",
              "    }\n",
              "\n",
              "    .dataframe tbody tr th {\n",
              "        vertical-align: top;\n",
              "    }\n",
              "\n",
              "    .dataframe thead th {\n",
              "        text-align: right;\n",
              "    }\n",
              "</style>\n",
              "<table border=\"1\" class=\"dataframe\">\n",
              "  <thead>\n",
              "    <tr style=\"text-align: right;\">\n",
              "      <th>지역1</th>\n",
              "      <th>index</th>\n",
              "      <th>강원</th>\n",
              "      <th>경기</th>\n",
              "      <th>경남</th>\n",
              "      <th>경북</th>\n",
              "      <th>부산</th>\n",
              "      <th>서울</th>\n",
              "      <th>세종</th>\n",
              "      <th>인천</th>\n",
              "      <th>전남</th>\n",
              "      <th>전북</th>\n",
              "      <th>제주</th>\n",
              "      <th>충남</th>\n",
              "      <th>충북</th>\n",
              "    </tr>\n",
              "  </thead>\n",
              "  <tbody>\n",
              "    <tr>\n",
              "      <th>0</th>\n",
              "      <td>2022/01/01</td>\n",
              "      <td>7</td>\n",
              "      <td>84</td>\n",
              "      <td>24</td>\n",
              "      <td>5</td>\n",
              "      <td>12</td>\n",
              "      <td>43</td>\n",
              "      <td>4</td>\n",
              "      <td>15</td>\n",
              "      <td>10</td>\n",
              "      <td>9</td>\n",
              "      <td>1</td>\n",
              "      <td>19</td>\n",
              "      <td>2</td>\n",
              "    </tr>\n",
              "    <tr>\n",
              "      <th>1</th>\n",
              "      <td>2022/02/01</td>\n",
              "      <td>7</td>\n",
              "      <td>85</td>\n",
              "      <td>24</td>\n",
              "      <td>5</td>\n",
              "      <td>12</td>\n",
              "      <td>42</td>\n",
              "      <td>4</td>\n",
              "      <td>16</td>\n",
              "      <td>11</td>\n",
              "      <td>9</td>\n",
              "      <td>1</td>\n",
              "      <td>19</td>\n",
              "      <td>2</td>\n",
              "    </tr>\n",
              "    <tr>\n",
              "      <th>2</th>\n",
              "      <td>2022/03/01</td>\n",
              "      <td>7</td>\n",
              "      <td>86</td>\n",
              "      <td>24</td>\n",
              "      <td>5</td>\n",
              "      <td>12</td>\n",
              "      <td>42</td>\n",
              "      <td>4</td>\n",
              "      <td>14</td>\n",
              "      <td>11</td>\n",
              "      <td>9</td>\n",
              "      <td>1</td>\n",
              "      <td>20</td>\n",
              "      <td>2</td>\n",
              "    </tr>\n",
              "    <tr>\n",
              "      <th>3</th>\n",
              "      <td>2022/04/01</td>\n",
              "      <td>7</td>\n",
              "      <td>86</td>\n",
              "      <td>24</td>\n",
              "      <td>5</td>\n",
              "      <td>11</td>\n",
              "      <td>42</td>\n",
              "      <td>4</td>\n",
              "      <td>13</td>\n",
              "      <td>11</td>\n",
              "      <td>9</td>\n",
              "      <td>1</td>\n",
              "      <td>22</td>\n",
              "      <td>2</td>\n",
              "    </tr>\n",
              "    <tr>\n",
              "      <th>4</th>\n",
              "      <td>2022/05/01</td>\n",
              "      <td>7</td>\n",
              "      <td>88</td>\n",
              "      <td>23</td>\n",
              "      <td>5</td>\n",
              "      <td>11</td>\n",
              "      <td>41</td>\n",
              "      <td>4</td>\n",
              "      <td>13</td>\n",
              "      <td>10</td>\n",
              "      <td>9</td>\n",
              "      <td>2</td>\n",
              "      <td>22</td>\n",
              "      <td>2</td>\n",
              "    </tr>\n",
              "    <tr>\n",
              "      <th>5</th>\n",
              "      <td>2022/06/01</td>\n",
              "      <td>7</td>\n",
              "      <td>89</td>\n",
              "      <td>25</td>\n",
              "      <td>5</td>\n",
              "      <td>10</td>\n",
              "      <td>39</td>\n",
              "      <td>4</td>\n",
              "      <td>13</td>\n",
              "      <td>10</td>\n",
              "      <td>9</td>\n",
              "      <td>2</td>\n",
              "      <td>22</td>\n",
              "      <td>2</td>\n",
              "    </tr>\n",
              "    <tr>\n",
              "      <th>6</th>\n",
              "      <td>2022/07/01</td>\n",
              "      <td>7</td>\n",
              "      <td>91</td>\n",
              "      <td>25</td>\n",
              "      <td>5</td>\n",
              "      <td>10</td>\n",
              "      <td>38</td>\n",
              "      <td>4</td>\n",
              "      <td>13</td>\n",
              "      <td>10</td>\n",
              "      <td>9</td>\n",
              "      <td>2</td>\n",
              "      <td>22</td>\n",
              "      <td>2</td>\n",
              "    </tr>\n",
              "    <tr>\n",
              "      <th>7</th>\n",
              "      <td>2022/08/01</td>\n",
              "      <td>7</td>\n",
              "      <td>91</td>\n",
              "      <td>24</td>\n",
              "      <td>5</td>\n",
              "      <td>10</td>\n",
              "      <td>38</td>\n",
              "      <td>4</td>\n",
              "      <td>13</td>\n",
              "      <td>10</td>\n",
              "      <td>9</td>\n",
              "      <td>2</td>\n",
              "      <td>22</td>\n",
              "      <td>2</td>\n",
              "    </tr>\n",
              "    <tr>\n",
              "      <th>8</th>\n",
              "      <td>2022/09/01</td>\n",
              "      <td>7</td>\n",
              "      <td>86</td>\n",
              "      <td>23</td>\n",
              "      <td>5</td>\n",
              "      <td>9</td>\n",
              "      <td>35</td>\n",
              "      <td>4</td>\n",
              "      <td>13</td>\n",
              "      <td>11</td>\n",
              "      <td>9</td>\n",
              "      <td>2</td>\n",
              "      <td>22</td>\n",
              "      <td>2</td>\n",
              "    </tr>\n",
              "  </tbody>\n",
              "</table>\n",
              "</div>"
            ],
            "text/plain": [
              "지역1       index  강원  경기  경남  경북  부산  서울  세종  인천  전남  전북  제주  충남  충북\n",
              "0    2022/01/01   7  84  24   5  12  43   4  15  10   9   1  19   2\n",
              "1    2022/02/01   7  85  24   5  12  42   4  16  11   9   1  19   2\n",
              "2    2022/03/01   7  86  24   5  12  42   4  14  11   9   1  20   2\n",
              "3    2022/04/01   7  86  24   5  11  42   4  13  11   9   1  22   2\n",
              "4    2022/05/01   7  88  23   5  11  41   4  13  10   9   2  22   2\n",
              "5    2022/06/01   7  89  25   5  10  39   4  13  10   9   2  22   2\n",
              "6    2022/07/01   7  91  25   5  10  38   4  13  10   9   2  22   2\n",
              "7    2022/08/01   7  91  24   5  10  38   4  13  10   9   2  22   2\n",
              "8    2022/09/01   7  86  23   5   9  35   4  13  11   9   2  22   2"
            ]
          },
          "execution_count": 3,
          "metadata": {},
          "output_type": "execute_result"
        }
      ],
      "source": [
        "location = pd.DataFrame(\n",
        "    {'2022/01/01':mis1.groupby('지역1').size(),\n",
        "    '2022/02/01':mis2.groupby('지역1').size(),\n",
        "    '2022/03/01':mis3.groupby('지역1').size(),\n",
        "    '2022/04/01':mis4.groupby('지역1').size(),\n",
        "    '2022/05/01':mis5.groupby('지역1').size(),\n",
        "    '2022/06/01':mis6.groupby('지역1').size(),\n",
        "    '2022/07/01':mis7.groupby('지역1').size(),\n",
        "    '2022/08/01':mis8.groupby('지역1').size(),\n",
        "    '2022/09/01':mis9.groupby('지역1').size()})\n",
        "\n",
        "location_t = location.T\n",
        "location_t = location_t.reset_index()\n",
        "\n",
        "location_t"
      ]
    },
    {
      "cell_type": "code",
      "execution_count": null,
      "metadata": {
        "id": "zbTRk_qiGi54",
        "outputId": "c8109ae0-e475-4c6a-b2c0-a6ec417a931c"
      },
      "outputs": [
        {
          "data": {
            "image/png": "[encoded data removed]",
            "text/plain": [
              "<Figure size 720x720 with 1 Axes>"
            ]
          },
          "metadata": {},
          "output_type": "display_data"
        }
      ],
      "source": [
        "\n",
        "x = location_t['index']\n",
        "y1 = location_t['강원']\n",
        "y2 = location_t['경기']\n",
        "y3 = location_t['경남']\n",
        "y4 = location_t['경북']\n",
        "y5 = location_t['부산']\n",
        "y6 = location_t['서울']\n",
        "y7 = location_t['세종']\n",
        "y8 = location_t['인천']\n",
        "y9 = location_t['전남']\n",
        "y10 = location_t['전북']\n",
        "y11 = location_t['제주']\n",
        "y12 = location_t['충남']\n",
        "y13 = location_t['충북']\n",
        "\n",
        "\n",
        "fig = plt.figure(figsize=(10,10)) ## 캔버스 생성\n",
        "fig.set_facecolor('white') ## 캔버스 색상 설정\n",
        "ax = fig.add_subplot() ## 그림 뼈대(프레임) 생성\n",
        "\n",
        "## 선그래프 생성\n",
        "ax.plot(x,y1,marker='o',label='강원') \n",
        "ax.plot(x,y2,marker='o',label='경기') \n",
        "ax.plot(x,y3,marker='o',label='경남')\n",
        "ax.plot(x,y4,marker='o',label='경북')\n",
        "ax.plot(x,y5,marker='o',label='부산')\n",
        "ax.plot(x,y6,marker='o',label='서울')\n",
        "ax.plot(x,y7,marker='o',label='세종')\n",
        "ax.plot(x,y8,marker='o',label='인천')\n",
        "ax.plot(x,y9,marker='o',label='전남')\n",
        "ax.plot(x,y10,marker='o',label='전북')\n",
        "ax.plot(x,y11,marker='o',label='제주')\n",
        "ax.plot(x,y12,marker='o',label='충남')\n",
        "ax.plot(x,y13,marker='o',label='충북')\n",
        "\n",
        " \n",
        "ax.legend() ## 범례\n",
        " \n",
        "plt.title('지역 별 매장 수 추이',fontsize=20) ## 타이틀 설정\n",
        "plt.show()"
      ]
    },
    {
      "cell_type": "markdown",
      "metadata": {
        "id": "TaKKrCsXGi55"
      },
      "source": [
        "#################상권 유형 별 매장 수####################"
      ]
    },
    {
      "cell_type": "code",
      "execution_count": null,
      "metadata": {
        "id": "Mo9c9q0EGi55",
        "outputId": "62f87c60-435f-4d82-e7c4-2d6d33513fe0"
      },
      "outputs": [
        {
          "data": {
            "text/html": [
              "<div>\n",
              "<style scoped>\n",
              "    .dataframe tbody tr th:only-of-type {\n",
              "        vertical-align: middle;\n",
              "    }\n",
              "\n",
              "    .dataframe tbody tr th {\n",
              "        vertical-align: top;\n",
              "    }\n",
              "\n",
              "    .dataframe thead th {\n",
              "        text-align: right;\n",
              "    }\n",
              "</style>\n",
              "<table border=\"1\" class=\"dataframe\">\n",
              "  <thead>\n",
              "    <tr style=\"text-align: right;\">\n",
              "      <th></th>\n",
              "      <th>index</th>\n",
              "      <th>상업</th>\n",
              "      <th>오피스</th>\n",
              "      <th>유흥/주거</th>\n",
              "      <th>주거</th>\n",
              "      <th>특수</th>\n",
              "      <th>학원</th>\n",
              "      <th>학원가</th>\n",
              "    </tr>\n",
              "  </thead>\n",
              "  <tbody>\n",
              "    <tr>\n",
              "      <th>0</th>\n",
              "      <td>2022/01/01</td>\n",
              "      <td>66.0</td>\n",
              "      <td>22.0</td>\n",
              "      <td>0.0</td>\n",
              "      <td>131.0</td>\n",
              "      <td>12.0</td>\n",
              "      <td>4.0</td>\n",
              "      <td>0.0</td>\n",
              "    </tr>\n",
              "    <tr>\n",
              "      <th>1</th>\n",
              "      <td>2022/02/01</td>\n",
              "      <td>67.0</td>\n",
              "      <td>21.0</td>\n",
              "      <td>0.0</td>\n",
              "      <td>132.0</td>\n",
              "      <td>13.0</td>\n",
              "      <td>4.0</td>\n",
              "      <td>0.0</td>\n",
              "    </tr>\n",
              "    <tr>\n",
              "      <th>2</th>\n",
              "      <td>2022/03/01</td>\n",
              "      <td>67.0</td>\n",
              "      <td>22.0</td>\n",
              "      <td>0.0</td>\n",
              "      <td>131.0</td>\n",
              "      <td>13.0</td>\n",
              "      <td>4.0</td>\n",
              "      <td>0.0</td>\n",
              "    </tr>\n",
              "    <tr>\n",
              "      <th>3</th>\n",
              "      <td>2022/04/01</td>\n",
              "      <td>67.0</td>\n",
              "      <td>22.0</td>\n",
              "      <td>0.0</td>\n",
              "      <td>131.0</td>\n",
              "      <td>13.0</td>\n",
              "      <td>4.0</td>\n",
              "      <td>0.0</td>\n",
              "    </tr>\n",
              "    <tr>\n",
              "      <th>4</th>\n",
              "      <td>2022/05/01</td>\n",
              "      <td>66.0</td>\n",
              "      <td>22.0</td>\n",
              "      <td>0.0</td>\n",
              "      <td>132.0</td>\n",
              "      <td>13.0</td>\n",
              "      <td>4.0</td>\n",
              "      <td>0.0</td>\n",
              "    </tr>\n",
              "    <tr>\n",
              "      <th>5</th>\n",
              "      <td>2022/06/01</td>\n",
              "      <td>64.0</td>\n",
              "      <td>22.0</td>\n",
              "      <td>0.0</td>\n",
              "      <td>134.0</td>\n",
              "      <td>13.0</td>\n",
              "      <td>4.0</td>\n",
              "      <td>0.0</td>\n",
              "    </tr>\n",
              "    <tr>\n",
              "      <th>6</th>\n",
              "      <td>2022/07/01</td>\n",
              "      <td>65.0</td>\n",
              "      <td>21.0</td>\n",
              "      <td>1.0</td>\n",
              "      <td>133.0</td>\n",
              "      <td>13.0</td>\n",
              "      <td>4.0</td>\n",
              "      <td>1.0</td>\n",
              "    </tr>\n",
              "    <tr>\n",
              "      <th>7</th>\n",
              "      <td>2022/08/01</td>\n",
              "      <td>64.0</td>\n",
              "      <td>21.0</td>\n",
              "      <td>1.0</td>\n",
              "      <td>133.0</td>\n",
              "      <td>13.0</td>\n",
              "      <td>4.0</td>\n",
              "      <td>1.0</td>\n",
              "    </tr>\n",
              "    <tr>\n",
              "      <th>8</th>\n",
              "      <td>2022/09/01</td>\n",
              "      <td>62.0</td>\n",
              "      <td>20.0</td>\n",
              "      <td>1.0</td>\n",
              "      <td>127.0</td>\n",
              "      <td>13.0</td>\n",
              "      <td>4.0</td>\n",
              "      <td>1.0</td>\n",
              "    </tr>\n",
              "  </tbody>\n",
              "</table>\n",
              "</div>"
            ],
            "text/plain": [
              "        index    상업   오피스  유흥/주거     주거    특수   학원  학원가\n",
              "0  2022/01/01  66.0  22.0    0.0  131.0  12.0  4.0  0.0\n",
              "1  2022/02/01  67.0  21.0    0.0  132.0  13.0  4.0  0.0\n",
              "2  2022/03/01  67.0  22.0    0.0  131.0  13.0  4.0  0.0\n",
              "3  2022/04/01  67.0  22.0    0.0  131.0  13.0  4.0  0.0\n",
              "4  2022/05/01  66.0  22.0    0.0  132.0  13.0  4.0  0.0\n",
              "5  2022/06/01  64.0  22.0    0.0  134.0  13.0  4.0  0.0\n",
              "6  2022/07/01  65.0  21.0    1.0  133.0  13.0  4.0  1.0\n",
              "7  2022/08/01  64.0  21.0    1.0  133.0  13.0  4.0  1.0\n",
              "8  2022/09/01  62.0  20.0    1.0  127.0  13.0  4.0  1.0"
            ]
          },
          "execution_count": 5,
          "metadata": {},
          "output_type": "execute_result"
        }
      ],
      "source": [
        "market = pd.DataFrame(\n",
        "    {'2022/01/01':mis1.groupby('상권').size(),\n",
        "    '2022/02/01':mis2.groupby('상권').size(),\n",
        "    '2022/03/01':mis3.groupby('상권').size(),\n",
        "    '2022/04/01':mis4.groupby('상권').size(),\n",
        "    '2022/05/01':mis5.groupby('상권').size(),\n",
        "    '2022/06/01':mis6.groupby('상권').size(),\n",
        "    '2022/07/01':mis7.groupby('상권').size(),\n",
        "    '2022/08/01':mis8.groupby('상권').size(),\n",
        "    '2022/09/01':mis9.groupby('상권').size()})\n",
        "\n",
        "market_t = market.T\n",
        "market_t = market_t.reset_index()\n",
        "market_t = market_t.fillna(0)\n",
        "market_t"
      ]
    },
    {
      "cell_type": "code",
      "execution_count": null,
      "metadata": {
        "id": "_3_Qb-xlGi56",
        "outputId": "08672c38-d472-4346-849f-291e79d462fc"
      },
      "outputs": [
        {
          "data": {
            "image/png": "[encoded data removed]",
            "text/plain": [
              "<Figure size 720x720 with 1 Axes>"
            ]
          },
          "metadata": {},
          "output_type": "display_data"
        }
      ],
      "source": [
        "xx = market_t['index']\n",
        "yy1 = market_t['상업']\n",
        "yy2 = market_t['오피스']\n",
        "yy3 = market_t['유흥/주거']\n",
        "yy4 = market_t['주거']\n",
        "yy5 = market_t['특수']\n",
        "yy6 = market_t['학원'] + market_t['학원가']\n",
        "\n",
        "\n",
        "fig = plt.figure(figsize=(10,10)) ## 캔버스 생성\n",
        "fig.set_facecolor('white') ## 캔버스 색상 설정\n",
        "axx = fig.add_subplot() ## 그림 뼈대(프레임) 생성\n",
        "\n",
        "## 선그래프 생성\n",
        "axx.plot(xx,yy1,marker='o',label='상업') \n",
        "axx.plot(xx,yy2,marker='o',label='오피스') \n",
        "axx.plot(xx,yy3,marker='o',label='유흥/주거')\n",
        "axx.plot(xx,yy4,marker='o',label='주거')\n",
        "axx.plot(xx,yy5,marker='o',label='특수')\n",
        "axx.plot(xx,yy6,marker='o',label='학원가')\n",
        "\n",
        "axx.legend() ## 범례\n",
        " \n",
        "plt.title('상권 유형 별 매장 수 추이',fontsize=20) ## 타이틀 설정\n",
        "plt.show()"
      ]
    },
    {
      "cell_type": "code",
      "execution_count": null,
      "metadata": {
        "id": "8x54Q9hXGi57",
        "outputId": "a2847ed4-d91b-40c5-af0d-a4c64674e2ed"
      },
      "outputs": [
        {
          "name": "stdout",
          "output_type": "stream",
          "text": [
            "<<<<<from fis>>>>>\n",
            "               0\n",
            "Unnamed: 57     \n",
            "상업            91\n",
            "쇼핑/오피스         1\n",
            "오피스           32\n",
            "주거           191\n",
            "주거/유흥          1\n",
            "특수            19\n",
            "학원             3\n",
            "학원가            1\n",
            "\n",
            "\n",
            "<<<<<from mis>>>>>\n",
            "         8\n",
            "상업      62\n",
            "오피스     20\n",
            "유흥/주거    1\n",
            "주거     127\n",
            "특수      13\n",
            "학원       4\n",
            "학원가      1\n"
          ]
        }
      ],
      "source": [
        "##fis랑 mis 상권 유형 분류 다름 + 분류 별 매장 개수도 다름\n",
        "##총 매장 개수 자체가 fis랑 mis랑 다름\n",
        "\n",
        "\n",
        "#9월 기준\n",
        "print('<<<<<from fis>>>>>')\n",
        "print(pd.DataFrame(fis.groupby('Unnamed: 57').size()).iloc[3:])\n",
        "print('\\n')\n",
        "print('<<<<<from mis>>>>>')\n",
        "print(pd.DataFrame(market_t.iloc[-1]).iloc[1:])"
      ]
    },
    {
      "cell_type": "markdown",
      "metadata": {
        "id": "2HU-3WYvGi57"
      },
      "source": [
        "#################대표자 연령대 별 매장 수####################"
      ]
    },
    {
      "cell_type": "code",
      "execution_count": null,
      "metadata": {
        "id": "WN0_-sMBGi58",
        "outputId": "e466c719-d4c9-4625-be40-879ba37af512"
      },
      "outputs": [
        {
          "data": {
            "text/html": [
              "<div>\n",
              "<style scoped>\n",
              "    .dataframe tbody tr th:only-of-type {\n",
              "        vertical-align: middle;\n",
              "    }\n",
              "\n",
              "    .dataframe tbody tr th {\n",
              "        vertical-align: top;\n",
              "    }\n",
              "\n",
              "    .dataframe thead th {\n",
              "        text-align: right;\n",
              "    }\n",
              "</style>\n",
              "<table border=\"1\" class=\"dataframe\">\n",
              "  <thead>\n",
              "    <tr style=\"text-align: right;\">\n",
              "      <th></th>\n",
              "      <th>40년대생</th>\n",
              "      <th>50년대생</th>\n",
              "      <th>60년대생</th>\n",
              "      <th>70년대생</th>\n",
              "      <th>80년대생</th>\n",
              "      <th>90년대생</th>\n",
              "    </tr>\n",
              "  </thead>\n",
              "  <tbody>\n",
              "    <tr>\n",
              "      <th>0</th>\n",
              "      <td>3</td>\n",
              "      <td>14</td>\n",
              "      <td>63</td>\n",
              "      <td>152</td>\n",
              "      <td>119</td>\n",
              "      <td>62</td>\n",
              "    </tr>\n",
              "  </tbody>\n",
              "</table>\n",
              "</div>"
            ],
            "text/plain": [
              "   40년대생  50년대생  60년대생  70년대생  80년대생  90년대생\n",
              "0      3     14     63    152    119     62"
            ]
          },
          "execution_count": 8,
          "metadata": {},
          "output_type": "execute_result"
        }
      ],
      "source": [
        "\n",
        "age = fis['Unnamed: 61']\n",
        "age = age.fillna(0)\n",
        "\n",
        "age40 = [] #40년도생\n",
        "age50 = [] #50년도생\n",
        "age60 = []\n",
        "age70 = []\n",
        "age80 = []\n",
        "age90 = []\n",
        "age_else = []\n",
        "age_nan = []\n",
        "\n",
        "for i in range(512):\n",
        "    if type(age[i]) == int:\n",
        "        if 40 <= age[i] < 50:\n",
        "            age40.append(age[i])\n",
        "        elif 50 <= age[i] < 60:\n",
        "            age50.append(age[i])\n",
        "        elif 60 <= age[i] < 70:\n",
        "            age60.append(age[i])\n",
        "        elif 70 <= age[i] < 80:\n",
        "            age70.append(age[i])\n",
        "        elif 80 <= age[i] < 90:\n",
        "            age80.append(age[i])\n",
        "        elif 90 <= age[i] <= 99:\n",
        "            age90.append(age[i])\n",
        "        elif age[i] == 0:\n",
        "            age_nan.append(age[i])\n",
        "    else:\n",
        "        age_else.append(age[i])\n",
        "\n",
        "\n",
        "agee = pd.DataFrame(\n",
        "    {'40년대생' : [len(age40)],\n",
        "    '50년대생' : [len(age50)],\n",
        "    '60년대생' : [len(age60)],\n",
        "    '70년대생': [len(age70)+2],\n",
        "    '80년대생': [len(age80)+1],\n",
        "    '90년대생' : [len(age90)]})\n",
        "\n",
        "agee\n",
        "#성별정보는 없는것같습니다."
      ]
    },
    {
      "cell_type": "markdown",
      "metadata": {
        "id": "l5GQpvOyGi58"
      },
      "source": [
        "#################월 별 개업/폐업 매장 수####################"
      ]
    },
    {
      "cell_type": "code",
      "execution_count": null,
      "metadata": {
        "id": "c5VHDVM8Gi59",
        "outputId": "7aedda16-cde0-4b95-af02-080a1f8caba5"
      },
      "outputs": [
        {
          "data": {
            "text/html": [
              "<div>\n",
              "<style scoped>\n",
              "    .dataframe tbody tr th:only-of-type {\n",
              "        vertical-align: middle;\n",
              "    }\n",
              "\n",
              "    .dataframe tbody tr th {\n",
              "        vertical-align: top;\n",
              "    }\n",
              "\n",
              "    .dataframe thead th {\n",
              "        text-align: right;\n",
              "    }\n",
              "</style>\n",
              "<table border=\"1\" class=\"dataframe\">\n",
              "  <thead>\n",
              "    <tr style=\"text-align: right;\">\n",
              "      <th></th>\n",
              "      <th>날짜</th>\n",
              "      <th>개업</th>\n",
              "      <th>폐업</th>\n",
              "    </tr>\n",
              "  </thead>\n",
              "  <tbody>\n",
              "    <tr>\n",
              "      <th>0</th>\n",
              "      <td>2022-01-01</td>\n",
              "      <td>3</td>\n",
              "      <td>8</td>\n",
              "    </tr>\n",
              "    <tr>\n",
              "      <th>1</th>\n",
              "      <td>2022-02-01</td>\n",
              "      <td>2</td>\n",
              "      <td>6</td>\n",
              "    </tr>\n",
              "    <tr>\n",
              "      <th>2</th>\n",
              "      <td>2022-03-01</td>\n",
              "      <td>4</td>\n",
              "      <td>2</td>\n",
              "    </tr>\n",
              "    <tr>\n",
              "      <th>3</th>\n",
              "      <td>2022-04-01</td>\n",
              "      <td>2</td>\n",
              "      <td>3</td>\n",
              "    </tr>\n",
              "    <tr>\n",
              "      <th>4</th>\n",
              "      <td>2022-05-01</td>\n",
              "      <td>2</td>\n",
              "      <td>5</td>\n",
              "    </tr>\n",
              "    <tr>\n",
              "      <th>5</th>\n",
              "      <td>2022-06-01</td>\n",
              "      <td>3</td>\n",
              "      <td>5</td>\n",
              "    </tr>\n",
              "    <tr>\n",
              "      <th>6</th>\n",
              "      <td>2022-07-01</td>\n",
              "      <td>3</td>\n",
              "      <td>3</td>\n",
              "    </tr>\n",
              "    <tr>\n",
              "      <th>7</th>\n",
              "      <td>2022-08-01</td>\n",
              "      <td>1</td>\n",
              "      <td>11</td>\n",
              "    </tr>\n",
              "    <tr>\n",
              "      <th>8</th>\n",
              "      <td>2022-09-01</td>\n",
              "      <td>4</td>\n",
              "      <td>3</td>\n",
              "    </tr>\n",
              "  </tbody>\n",
              "</table>\n",
              "</div>"
            ],
            "text/plain": [
              "           날짜  개업  폐업\n",
              "0  2022-01-01   3   8\n",
              "1  2022-02-01   2   6\n",
              "2  2022-03-01   4   2\n",
              "3  2022-04-01   2   3\n",
              "4  2022-05-01   2   5\n",
              "5  2022-06-01   3   5\n",
              "6  2022-07-01   3   3\n",
              "7  2022-08-01   1  11\n",
              "8  2022-09-01   4   3"
            ]
          },
          "execution_count": 9,
          "metadata": {},
          "output_type": "execute_result"
        }
      ],
      "source": [
        "\n",
        "import datetime\n",
        "from datetime import date\n",
        "open_close = pd.DataFrame(\n",
        "    [[date(2022,1,1), 3, 8],\n",
        "    [date(2022,2,1), 2, 6],\n",
        "    [date(2022,3,1), 4, 2],\n",
        "    [date(2022,4,1), 2, 3],\n",
        "    [date(2022,5,1), 2, 5],\n",
        "    [date(2022,6,1), 3, 5],\n",
        "    [date(2022,7,1), 3, 3],\n",
        "    [date(2022,8,1), 1, 11],\n",
        "    [date(2022,9,1), 4, 3]], columns = ['날짜', '개업', '폐업'])\n",
        "\n",
        "open_close"
      ]
    },
    {
      "cell_type": "code",
      "execution_count": null,
      "metadata": {
        "id": "2rOyZ9KgGi59",
        "outputId": "01cc5659-524b-406b-9b15-5e24c7026dca"
      },
      "outputs": [
        {
          "data": {
            "image/png": "[encoded data removed]",
            "text/plain": [
              "<Figure size 720x720 with 1 Axes>"
            ]
          },
          "metadata": {},
          "output_type": "display_data"
        }
      ],
      "source": [
        "fig = plt.figure(figsize=(10,10)) ## 캔버스 생성\n",
        "fig.set_facecolor('white') ## 캔버스 색상 설정\n",
        "axx = fig.add_subplot() ## 그림 뼈대(프레임) 생성\n",
        "\n",
        "## 선그래프 생성\n",
        "axx.plot(open_close['날짜'],open_close['개업'],marker='o',label='개업') \n",
        "axx.plot(open_close['날짜'],open_close['폐업'],marker='o',label='폐업') \n",
        "\n",
        "axx.legend() ## 범례\n",
        " \n",
        "plt.title('월별 개폐업 매장 수',fontsize=20) ## 타이틀 설정\n",
        "plt.show()\n"
      ]
    },
    {
      "cell_type": "markdown",
      "metadata": {
        "id": "7ctAr9tTGi59"
      },
      "source": [
        "#################최근 1년내 매월 매출이 있는 매장 수####################"
      ]
    },
    {
      "cell_type": "code",
      "execution_count": null,
      "metadata": {
        "id": "CVgwgfAkGi59",
        "outputId": "2a2a481c-a54f-41c1-963d-13fce7114348"
      },
      "outputs": [
        {
          "data": {
            "text/plain": [
              "198"
            ]
          },
          "execution_count": 11,
          "metadata": {},
          "output_type": "execute_result"
        }
      ],
      "source": [
        "\n",
        "sales1 = set(mis1[mis1['매출 누계'] != 0]['매장명(변경)'])\n",
        "sales2 = set(mis2[mis2['매출 누계'] != 0]['매장명(변경)'])\n",
        "sales3 = set(mis3[mis3['매출 누계'] != 0]['매장명(변경)'])\n",
        "sales4 = set(mis4[mis4['매출 누계'] != 0]['매장명(변경)'])\n",
        "sales5 = set(mis5[mis5['매출 누계'] != 0]['매장명(변경)'])\n",
        "sales6 = set(mis6[mis6['매출 누계'] != 0]['매장명(변경)'])\n",
        "sales7 = set(mis7[mis7['매출 누계'] != 0]['매장명(변경)'])\n",
        "sales8 = set(mis8[mis8['매출 누계'] != 0]['매장명(변경)'])\n",
        "sales9 = set(mis9[mis9['매출 누계'] != 0]['매장명(변경)'])\n",
        "\n",
        "sales_all = sales1 & sales2 & sales3 & sales4 & sales5 & sales6 & sales7 &sales8&sales9\n",
        "len(sales_all)"
      ]
    },
    {
      "cell_type": "markdown",
      "metadata": {
        "id": "MlCnWmNOGi5-"
      },
      "source": [
        "#################월별 흑자/적자 매장 수####################"
      ]
    },
    {
      "cell_type": "code",
      "execution_count": null,
      "metadata": {
        "id": "hJNsPwBNGi5-",
        "outputId": "e0056c14-4782-4fec-f5d3-b3f9749ec98b"
      },
      "outputs": [
        {
          "data": {
            "text/html": [
              "<div>\n",
              "<style scoped>\n",
              "    .dataframe tbody tr th:only-of-type {\n",
              "        vertical-align: middle;\n",
              "    }\n",
              "\n",
              "    .dataframe tbody tr th {\n",
              "        vertical-align: top;\n",
              "    }\n",
              "\n",
              "    .dataframe thead th {\n",
              "        text-align: right;\n",
              "    }\n",
              "</style>\n",
              "<table border=\"1\" class=\"dataframe\">\n",
              "  <thead>\n",
              "    <tr style=\"text-align: right;\">\n",
              "      <th></th>\n",
              "      <th>흑자</th>\n",
              "      <th>적자</th>\n",
              "    </tr>\n",
              "  </thead>\n",
              "  <tbody>\n",
              "    <tr>\n",
              "      <th>0</th>\n",
              "      <td>225</td>\n",
              "      <td>265</td>\n",
              "    </tr>\n",
              "  </tbody>\n",
              "</table>\n",
              "</div>"
            ],
            "text/plain": [
              "    흑자   적자\n",
              "0  225  265"
            ]
          },
          "execution_count": 12,
          "metadata": {},
          "output_type": "execute_result"
        }
      ],
      "source": [
        "surplus = fis['Unnamed: 95']\n",
        "surplus = surplus.fillna(0)\n",
        "\n",
        "surplus_gain = [] #적자\n",
        "surplus_loss = [] #흑자\n",
        "surplus_else = []\n",
        "surplus_nan = []\n",
        "\n",
        "for i in range(512):\n",
        "    if surplus[i] == '흑자':\n",
        "        surplus_gain.append(surplus[i])\n",
        "    elif surplus[i] == '적자':\n",
        "        surplus_loss.append(surplus[i])\n",
        "    elif surplus[i] == 0:\n",
        "        surplus_nan.append(surplus[i])\n",
        "    else:\n",
        "        surplus_else.append(surplus[i])\n",
        "\n",
        "surplus_gain_loss = pd.DataFrame(\n",
        "    {'흑자' : [len(surplus_gain)],\n",
        "    '적자' : [len(surplus_loss)]})\n",
        "\n",
        "surplus_gain_loss"
      ]
    },
    {
      "cell_type": "code",
      "execution_count": null,
      "metadata": {
        "id": "gM45f61XGi5-"
      },
      "outputs": [],
      "source": []
    }
  ],
  "metadata": {
    "kernelspec": {
      "display_name": "Python 3",
      "language": "python",
      "name": "python3"
    },
    "language_info": {
      "codemirror_mode": {
        "name": "ipython",
        "version": 3
      },
      "file_extension": ".py",
      "mimetype": "text/x-python",
      "name": "python",
      "nbconvert_exporter": "python",
      "pygments_lexer": "ipython3",
      "version": "3.7.6"
    },
    "colab": {
      "provenance": [],
      "collapsed_sections": []
    }
  },
  "nbformat": 4,
  "nbformat_minor": 0
}